{
 "cells": [
  {
   "cell_type": "code",
   "execution_count": 1,
   "id": "3fba066c-2766-4caa-ae89-e6723d145e73",
   "metadata": {},
   "outputs": [
    {
     "name": "stdout",
     "output_type": "stream",
     "text": [
      "1: Risk\n",
      "2: Address verification\n",
      "3: 30 year laminated shingles\n",
      "4: 15# felt / drip edge\n",
      "5: valley metal\n",
      "6: Roof overview\n",
      "7: Roof overview\n",
      "8: Roof overview\n",
      "9: Roof overview\n",
      "10: Roof overview\n",
      "11: Roof overview\n",
      "12: Roof overview\n",
      "13: Roof overview\n",
      "14: Roof overview\n",
      "15: Roof overview\n",
      "16: Roof overview\n",
      "17: Roof overview\n",
      "18: Roof overview\n",
      "19: Front slope visible storm damage was\n",
      "20: Front slope visible storm damage was\n",
      "21: Front slope visible storm damage was\n",
      "22: Front slope visible storm damage was\n",
      "23: Front slope visible storm damage was\n",
      "24: Right slope no visible storm damage was\n",
      "25: Right slope no visible storm damage was\n",
      "26: Right slope no visible storm damage was\n",
      "27: Back slope no visible storm damage was\n",
      "28: Back slope no visible storm damage was\n",
      "29: Back slope no visible storm damage was\n",
      "30: Left slope no visible storm damage was\n",
      "31: Left slope no visible storm damage was\n",
      "32: Left slope no visible storm damage was\n",
      "33: Front elevation overview\n",
      "34: Front elevation no damage was noted.\n",
      "35: Front elevation no damage was noted.\n",
      "36: Right elevation no damage was noted.\n",
      "37: Right elevation no damage was noted.\n",
      "38: Right elevation no damage was noted.\n",
      "39: Rear elevation overview\n",
      "40: Rear elevation visible storm damage was\n",
      "41: Rear elevation visible storm damage was\n",
      "42: Rear elevation visible storm damage was\n",
      "43: Rear elevation visible storm damage was\n",
      "44: Rear elevation visible storm damage was\n",
      "45: Rear elevation visible storm damage was\n",
      "46: Rear elevation visible storm damage was\n",
      "47: Rear elevation visible storm damage was\n",
      "48: Left elevation no damage was noted.\n",
      "49: Left elevation no damage was noted.\n",
      "50: Garage overview\n",
      "51: Garage visible water damage was noted\n",
      "52: Garage visible water damage was noted\n",
      "53: Garage visible water damage was noted\n",
      "54: Garage visible water damage was noted\n",
      "55: Visible storm damage was noted to vinyl\n",
      "56: Visible storm damage was noted to vinyl\n",
      "57: Visible storm damage was noted to vinyl\n",
      "58: Visible storm damage was noted to vinyl\n",
      "59: Visible storm damage was noted to vinyl\n"
     ]
    }
   ],
   "source": [
    "import PyPDF2\n",
    "import re\n",
    "\n",
    "# Function to extract descriptions from the PDF\n",
    "def extract_descriptions(pdf_file_path):\n",
    "    # Open the PDF file\n",
    "    with open(pdf_file_path, 'rb') as file:\n",
    "        # Initialize PDF reader\n",
    "        reader = PyPDF2.PdfReader(file)\n",
    "        \n",
    "        descriptions = []\n",
    "        \n",
    "        # Loop through all the pages\n",
    "        for page_num in range(len(reader.pages)):\n",
    "            # Extract text from each page\n",
    "            page_text = reader.pages[page_num].extract_text()\n",
    "            \n",
    "            # # Debug: Print the extracted text to see its structure\n",
    "            # print(f\"Page {page_num + 1} Text:\\n{page_text}\\n{'-'*40}\\n\")\n",
    "            \n",
    "            # Modify the regular expression based on the actual format\n",
    "            # This pattern assumes the descriptions are on the next line after \"Taken By\"\n",
    "            description_pattern = re.compile(r\"Date Taken:.*?\\nTaken By:.*?\\n(.*?)(?:\\n|$)\", re.DOTALL)\n",
    "            \n",
    "            # Find all descriptions matching the pattern\n",
    "            matches = description_pattern.findall(page_text)\n",
    "            descriptions.extend(matches)\n",
    "    \n",
    "    return descriptions\n",
    "\n",
    "# Path to the PDF file\n",
    "pdf_path = 'PHOTO_REPORT.pdf'\n",
    "\n",
    "# Extract and print descriptions\n",
    "descriptions = extract_descriptions(pdf_path)\n",
    "if descriptions:\n",
    "    for i, description in enumerate(descriptions, start=1):\n",
    "        print(f\"{i}: {description.strip()}\")\n",
    "else:\n",
    "    print(\"No descriptions found.\")\n"
   ]
  },
  {
   "cell_type": "code",
   "execution_count": 3,
   "id": "1753ea89-f794-4c65-b345-630f39e541ed",
   "metadata": {},
   "outputs": [
    {
     "name": "stdin",
     "output_type": "stream",
     "text": [
      "Enter a keyword to search in descriptions:  garage\n"
     ]
    },
    {
     "name": "stdout",
     "output_type": "stream",
     "text": [
      "Garage overview\n",
      "Garage visible water damage was noted\n",
      "Garage visible water damage was noted\n",
      "Garage visible water damage was noted\n",
      "Garage visible water damage was noted\n"
     ]
    }
   ],
   "source": [
    "# Function to filter descriptions based on a keyword\n",
    "def filter_descriptions_by_keyword(descriptions, keyword):\n",
    "    # Filter descriptions that contain the keyword (case-insensitive)\n",
    "    filtered_descriptions = [desc for desc in descriptions if keyword.lower() in desc.lower()]\n",
    "    \n",
    "    # Print filtered descriptions\n",
    "    if filtered_descriptions:\n",
    "        for i, description in enumerate(filtered_descriptions, start=1):\n",
    "            print(f\"{description.strip()}\")\n",
    "    else:\n",
    "        print(f\"No descriptions found containing the keyword: {keyword}\")\n",
    "\n",
    "# Example keyword to search for (you can change this keyword or take input interactively)\n",
    "keyword = input(\"Enter a keyword to search in descriptions: \")\n",
    "\n",
    "# Call the filter function\n",
    "filter_descriptions_by_keyword(descriptions, keyword)\n"
   ]
  },
  {
   "cell_type": "code",
   "execution_count": null,
   "id": "9bc9f685-9ba6-4c55-b0b5-5713585b40b1",
   "metadata": {},
   "outputs": [],
   "source": []
  }
 ],
 "metadata": {
  "kernelspec": {
   "display_name": "Python 3 (ipykernel)",
   "language": "python",
   "name": "python3"
  },
  "language_info": {
   "codemirror_mode": {
    "name": "ipython",
    "version": 3
   },
   "file_extension": ".py",
   "mimetype": "text/x-python",
   "name": "python",
   "nbconvert_exporter": "python",
   "pygments_lexer": "ipython3",
   "version": "3.11.7"
  }
 },
 "nbformat": 4,
 "nbformat_minor": 5
}
